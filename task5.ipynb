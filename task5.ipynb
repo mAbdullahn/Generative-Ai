{
 "cells": [
  {
   "cell_type": "code",
   "execution_count": 7,
   "id": "60f90f40-c185-4a8f-8797-b7a839463d4d",
   "metadata": {},
   "outputs": [],
   "source": [
    "import os\n",
    "from openai import OpenAI\n",
    "from dotenv import load_dotenv\n",
    "import gradio as gr"
   ]
  },
  {
   "cell_type": "code",
   "execution_count": 8,
   "id": "9e5d8294-67bd-476f-b171-5c4bd52997ab",
   "metadata": {},
   "outputs": [
    {
     "name": "stdout",
     "output_type": "stream",
     "text": [
      "yes key set\n"
     ]
    }
   ],
   "source": [
    "load_dotenv(override=True)\n",
    "openai_api_key = os.getenv('OPENAI_API_KEY')\n",
    "\n",
    "if openai_api_key:\n",
    "    print(\"yes key set\")\n",
    "else:\n",
    "    print(\"nop not found\")"
   ]
  },
  {
   "cell_type": "code",
   "execution_count": 9,
   "id": "f4349e5f-432e-4ecc-8637-f0927ca31fda",
   "metadata": {},
   "outputs": [],
   "source": [
    "openai = OpenAI()"
   ]
  },
  {
   "cell_type": "code",
   "execution_count": 10,
   "id": "79ac9a83-e1f4-4a64-bfa8-a2135a8caa39",
   "metadata": {},
   "outputs": [],
   "source": [
    "system_prompt=\"you are bookshop assitent. you book shop girl. who is little teasy by nature . you recoment book base on genre . tell by customer.. keep in mind . you are book shop assistent so if someone say something out of context you may scold him. for example if someone say. what is best rpg game . or what is cost of ticket or anything not related to your shop. you may scold him and ask him genere what he want to actually read\""
   ]
  },
  {
   "cell_type": "code",
   "execution_count": 11,
   "id": "cc0ae97b-fd25-4781-a408-0a91fcc1d121",
   "metadata": {},
   "outputs": [],
   "source": [
    "def chat(message, history):\n",
    "    rel_message=message\n",
    "    if \"romantic\" or \"sale\" in message:\n",
    "         rel_message += \" yep there are 30% off in  our romantic book collection .. just for naughty one like you\"\n",
    "    elif \"used book\" in message:\n",
    "        rel_message+=\"nop sorry we not deal in used book everything is shiny here \"\n",
    "    \n",
    "      \n",
    "    messages = [{\"role\": \"system\", \"content\": system_prompt}] + history + [{\"role\": \"user\", \"content\": rel_message}]\n",
    "    \n",
    "    stream = openai.chat.completions.create(model=\"gpt-4o-mini\", messages=messages, stream=True)\n",
    "    \n",
    "    response = \"\"\n",
    "    for chunk in stream:\n",
    "        response += chunk.choices[0].delta.content or ''\n",
    "        yield response\n"
   ]
  },
  {
   "cell_type": "code",
   "execution_count": 12,
   "id": "7c456233-ce28-48fe-8209-d04c896c8ef3",
   "metadata": {},
   "outputs": [
    {
     "name": "stdout",
     "output_type": "stream",
     "text": [
      "* Running on local URL:  http://127.0.0.1:7861\n",
      "* To create a public link, set `share=True` in `launch()`.\n"
     ]
    },
    {
     "data": {
      "text/html": [
       "<div><iframe src=\"http://127.0.0.1:7861/\" width=\"100%\" height=\"500\" allow=\"autoplay; camera; microphone; clipboard-read; clipboard-write;\" frameborder=\"0\" allowfullscreen></iframe></div>"
      ],
      "text/plain": [
       "<IPython.core.display.HTML object>"
      ]
     },
     "metadata": {},
     "output_type": "display_data"
    },
    {
     "data": {
      "text/plain": []
     },
     "execution_count": 12,
     "metadata": {},
     "output_type": "execute_result"
    }
   ],
   "source": [
    "gr.ChatInterface(fn=chat, type=\"messages\").launch()"
   ]
  },
  {
   "cell_type": "code",
   "execution_count": null,
   "id": "fa2b6999-86c9-4532-b50f-9aa2795ddc61",
   "metadata": {},
   "outputs": [],
   "source": []
  }
 ],
 "metadata": {
  "kernelspec": {
   "display_name": "Python 3 (ipykernel)",
   "language": "python",
   "name": "python3"
  },
  "language_info": {
   "codemirror_mode": {
    "name": "ipython",
    "version": 3
   },
   "file_extension": ".py",
   "mimetype": "text/x-python",
   "name": "python",
   "nbconvert_exporter": "python",
   "pygments_lexer": "ipython3",
   "version": "3.11.13"
  }
 },
 "nbformat": 4,
 "nbformat_minor": 5
}
