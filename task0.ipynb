{
 "cells": [
  {
   "cell_type": "code",
   "execution_count": 3,
   "id": "61a6ceb7-190f-4ab1-ad5c-001678faaf56",
   "metadata": {},
   "outputs": [],
   "source": [
    "import os\n",
    "from bs4 import BeautifulSoup\n",
    "import requests\n",
    "from openai import OpenAI\n",
    "from IPython.display import display,Markdown,update_display\n",
    "from dotenv import load_dotenv"
   ]
  },
  {
   "cell_type": "code",
   "execution_count": 6,
   "id": "f483de45-f9f4-454a-977f-674f04535059",
   "metadata": {},
   "outputs": [],
   "source": [
    "def fetch_website_text(url):\n",
    "    try:\n",
    "        response = requests.get(url)\n",
    "        response.raise_for_status()\n",
    "        website_content = response.text\n",
    "        soup = BeautifulSoup(website_content, 'html.parser')\n",
    "        \n",
    "        if soup.body:\n",
    "            for tag in soup.body([\"script\", \"style\", \"img\", \"input\"]):\n",
    "                tag.decompose()  # hakai!!\n",
    "            text = soup.body.get_text(separator=\"\\n\", strip=True)\n",
    "        else:\n",
    "            text = soup.get_text(separator=\"\\n\", strip=True)\n",
    "        \n",
    "        return text\n",
    "    \n",
    "    except Exception as e:\n",
    "        return f\"Error fetching website: {e}\""
   ]
  },
  {
   "cell_type": "code",
   "execution_count": 10,
   "id": "2fa8d600-a39d-43e6-bbf7-310cbe921339",
   "metadata": {},
   "outputs": [
    {
     "name": "stdout",
     "output_type": "stream",
     "text": [
      "✅ API key loaded successfully\n"
     ]
    }
   ],
   "source": [
    "import openai\n",
    "import os\n",
    "from dotenv import load_dotenv\n",
    "\n",
    "# Load environment variables from .env file\n",
    "load_dotenv()\n",
    "\n",
    "# Access the key\n",
    "openai.api_key = os.getenv(\"OPENAI_API_KEY\")\n",
    "\n",
    "# (Optional) confirm it's working\n",
    "if openai.api_key:\n",
    "    print(\"✅ API key loaded successfully\")\n",
    "else:\n",
    "    print(\"❌ Failed to load API key\")"
   ]
  },
  {
   "cell_type": "code",
   "execution_count": 12,
   "id": "c601e8ab-c80d-4368-a473-80e218d557b9",
   "metadata": {},
   "outputs": [],
   "source": [
    "system_prompt = \"You are a helpful assistant that summarizes the main purpose and content of websites. Provide a clear, concise, and engaging summary for a brochure.\"\n"
   ]
  },
  {
   "cell_type": "code",
   "execution_count": 14,
   "id": "0693dfdd-6e10-4e05-a106-55a7f15c64c8",
   "metadata": {},
   "outputs": [],
   "source": [
    "url = \"https://edwarddonner.com\"\n",
    "text = fetch_website_text(url)"
   ]
  },
  {
   "cell_type": "code",
   "execution_count": 15,
   "id": "49ee64a9-29eb-4bae-8749-b49307f0453e",
   "metadata": {},
   "outputs": [
    {
     "name": "stdout",
     "output_type": "stream",
     "text": [
      "Home\n",
      "Connect Four\n",
      "Outsmart\n",
      "An arena that pits LLMs against each other in a battle of diplomacy and deviousness\n",
      "About\n",
      "Posts\n",
      "Well, hi there.\n",
      "I’m Ed. I like writing code and experimenting with LLMs, and hopefully you’re here because you do too. I also enjoy DJing (but I’m badly out of practice), amateur electronic music production (\n",
      "very\n",
      "amateur) and losing myself in\n",
      "Hacker News\n",
      ", nodding my head sagely to things I only half understand.\n",
      "I’m the co-founder and CTO of\n",
      "Nebula.io\n",
      ". We’re applying AI to a field where it can make a massive, positive impact: helping people discover their potential and pursue their reason for being. Recruiters use our product today to source, understand, engage and manage talent. I’m previously the founder and CEO of AI startup untapt,\n",
      "acquired in 2021\n",
      ".\n",
      "We work with groundbreaking, proprietary LLMs verticalized for talent, we’ve\n",
      "patented\n",
      "our matching model, and our award-winning platform has happy customers and tons of press coverage.\n",
      "Connect\n",
      "with me for more!\n",
      "May 28, 2025\n",
      "Connecting my courses – become an LLM expert and leader\n",
      "May 18, 2025\n",
      "2025 AI Executive Briefing\n",
      "April 21, 2025\n",
      "The Complete Agentic AI Engineering Course\n",
      "January 23, 2025\n",
      "LLM Workshop – Hands-on with Agents – resources\n",
      "Navigation\n",
      "Home\n",
      "Connect Four\n",
      "Outsmart\n",
      "An arena that pits LLMs against each other in a battle of diplomacy and deviousness\n",
      "About\n",
      "Posts\n",
      "Get in touch\n",
      "ed [at] edwarddonner [dot] com\n",
      "www.edwarddonner.com\n",
      "Follow me\n",
      "LinkedIn\n",
      "Twitter\n",
      "Facebook\n",
      "Subscribe to newsletter\n",
      "Type your email…\n",
      "Subscribe\n"
     ]
    }
   ],
   "source": [
    "print(text)"
   ]
  },
  {
   "cell_type": "code",
   "execution_count": 16,
   "id": "bb96d9a2-3c30-4a6b-8534-fb1485864a35",
   "metadata": {},
   "outputs": [],
   "source": [
    "user_prompt = f\"\"\"\n",
    "You are given the following cleaned website text. Please generate a brochure-style summary of the site,\n",
    "highlighting its purpose, services, and any important points. Keep the tone professional and concise.\n",
    "\n",
    "Website Text:\n",
    "{text}\n",
    "\"\"\""
   ]
  },
  {
   "cell_type": "code",
   "execution_count": 18,
   "id": "3a18e722-1921-46ab-b6ee-d137481382d5",
   "metadata": {},
   "outputs": [
    {
     "name": "stdout",
     "output_type": "stream",
     "text": [
      "\n",
      "You are given the following cleaned website text. Please generate a brochure-style summary of the site,\n",
      "highlighting its purpose, services, and any important points. Keep the tone professional and concise.\n",
      "\n",
      "Website Text:\n",
      "Home\n",
      "Connect Four\n",
      "Outsmart\n",
      "An arena that pits LLMs against each other in a battle of diplomacy and deviousness\n",
      "About\n",
      "Posts\n",
      "Well, hi there.\n",
      "I’m Ed. I like writing code and experimenting with LLMs, and hopefully you’re here because you do too. I also enjoy DJing (but I’m badly out of practice), amateur electronic music production (\n",
      "very\n",
      "amateur) and losing myself in\n",
      "Hacker News\n",
      ", nodding my head sagely to things I only half understand.\n",
      "I’m the co-founder and CTO of\n",
      "Nebula.io\n",
      ". We’re applying AI to a field where it can make a massive, positive impact: helping people discover their potential and pursue their reason for being. Recruiters use our product today to source, understand, engage and manage talent. I’m previously the founder and CEO of AI startup untapt,\n",
      "acquired in 2021\n",
      ".\n",
      "We work with groundbreaking, proprietary LLMs verticalized for talent, we’ve\n",
      "patented\n",
      "our matching model, and our award-winning platform has happy customers and tons of press coverage.\n",
      "Connect\n",
      "with me for more!\n",
      "May 28, 2025\n",
      "Connecting my courses – become an LLM expert and leader\n",
      "May 18, 2025\n",
      "2025 AI Executive Briefing\n",
      "April 21, 2025\n",
      "The Complete Agentic AI Engineering Course\n",
      "January 23, 2025\n",
      "LLM Workshop – Hands-on with Agents – resources\n",
      "Navigation\n",
      "Home\n",
      "Connect Four\n",
      "Outsmart\n",
      "An arena that pits LLMs against each other in a battle of diplomacy and deviousness\n",
      "About\n",
      "Posts\n",
      "Get in touch\n",
      "ed [at] edwarddonner [dot] com\n",
      "www.edwarddonner.com\n",
      "Follow me\n",
      "LinkedIn\n",
      "Twitter\n",
      "Facebook\n",
      "Subscribe to newsletter\n",
      "Type your email…\n",
      "Subscribe\n",
      "\n"
     ]
    }
   ],
   "source": [
    "print(user_prompt) "
   ]
  },
  {
   "cell_type": "code",
   "execution_count": 21,
   "id": "bfc45a6d-b8d8-4730-a4fb-c2d0f0b37ed0",
   "metadata": {},
   "outputs": [
    {
     "name": "stdout",
     "output_type": "stream",
     "text": [
      "**Discover Potential with Cutting-Edge LLMs**\n",
      "\n",
      "Welcome to the forefront of AI innovation! Our platform, founded by Ed, an expert in coding and LLM experimentation, utilizes groundbreaking technologies to transform talent discovery and management.\n",
      "\n",
      "**Our Purpose:**\n",
      "At Nebula.io, we harness the power of proprietary large language models (LLMs) to redefine the recruitment landscape. Our mission is to empower individuals to uncover their potential and align with their true passions, while providing recruiters with a unique, efficient tool for sourcing and engaging top talent.\n",
      "\n",
      "**What We Offer:**\n",
      "- **Advanced Matching Model:** A patented technology that ensures the best fit between candidates and opportunities.\n",
      "- **Award-Winning Platform:** Recognized for its innovative approach and effectiveness, with a track record of satisfied customers.\n",
      "- **Expert Training Courses:** Join our workshops and courses to become an expert in agentic AI and LLMs, helping drive the future of recruitment and talent management.\n",
      "\n",
      "**Engage with Us:**\n",
      "Connect with Ed for insights, collaborations, and the latest updates in AI innovation. Follow us and subscribe to our newsletter to stay ahead in the evolving world of LLMs.\n",
      "\n",
      "Start your journey to discovering potential today! Visit us at [edwarddonner.com](http://www.edwarddonner.com) or reach out via email: ed@edwarddonner.com. \n",
      "\n",
      "**Let’s innovate together!**\n"
     ]
    }
   ],
   "source": [
    "messages = [\n",
    "    {\"role\": \"system\", \"content\":system_prompt },\n",
    "    {\"role\": \"user\", \"content\": user_prompt}\n",
    "]\n",
    "\n",
    "response = openai.chat.completions.create(model=\"gpt-4o-mini\", messages=messages)\n",
    "print(response.choices[0].message.content)"
   ]
  },
  {
   "cell_type": "code",
   "execution_count": null,
   "id": "3149fc30-655b-4328-8d11-b2ea4c6c617f",
   "metadata": {},
   "outputs": [],
   "source": []
  }
 ],
 "metadata": {
  "kernelspec": {
   "display_name": "Python 3 (ipykernel)",
   "language": "python",
   "name": "python3"
  },
  "language_info": {
   "codemirror_mode": {
    "name": "ipython",
    "version": 3
   },
   "file_extension": ".py",
   "mimetype": "text/x-python",
   "name": "python",
   "nbconvert_exporter": "python",
   "pygments_lexer": "ipython3",
   "version": "3.11.13"
  }
 },
 "nbformat": 4,
 "nbformat_minor": 5
}
