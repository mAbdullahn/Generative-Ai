{
 "cells": [
  {
   "cell_type": "markdown",
   "id": "69c512d6-61e5-4169-b2a0-4509ef72648e",
   "metadata": {},
   "source": [
    "# This is the project with 2 AI in single context window"
   ]
  },
  {
   "cell_type": "code",
   "execution_count": 1,
   "id": "57aa5e45-c929-41ca-b0d6-eb3fa092ca9f",
   "metadata": {},
   "outputs": [],
   "source": [
    "import os\n",
    "from openai import OpenAI\n",
    "from dotenv import load_dotenv\n",
    "import gradio as gr"
   ]
  },
  {
   "cell_type": "code",
   "execution_count": 2,
   "id": "d90a9565-a974-4b41-9287-639a110bff3c",
   "metadata": {},
   "outputs": [],
   "source": [
    "load_dotenv(override=True)\n",
    "openai_key=os.getenv('OPENAI_API_KEY')"
   ]
  },
  {
   "cell_type": "code",
   "execution_count": 3,
   "id": "d0f0ff85-537c-4d3e-9ba7-96b1390582f2",
   "metadata": {},
   "outputs": [],
   "source": [
    "openai=OpenAI()"
   ]
  },
  {
   "cell_type": "code",
   "execution_count": 4,
   "id": "38010d0b-8f48-4669-932c-2d698f407e83",
   "metadata": {},
   "outputs": [
    {
     "name": "stdout",
     "output_type": "stream",
     "text": [
      "yes key found \n"
     ]
    }
   ],
   "source": [
    "if openai_key:\n",
    "    print(\"yes key found \")\n",
    "else:\n",
    "    print(\"not any key found\")"
   ]
  },
  {
   "cell_type": "code",
   "execution_count": 5,
   "id": "b4fbf6b3-377f-47fd-99e9-0c98138214a2",
   "metadata": {},
   "outputs": [],
   "source": [
    "system_prompt_alina=\"You are roleplaying as  character Alina — dominant, mocking and tease the user. and there is another model name as sera . she try to protect user so you have to deal with her too.you will genereate message with your name like  alina='so you are user. sit on computer and waste your time ' \"\n",
    "system_prompt_sera=\"you are roleplaying as the character name sera — shy , protective , innocent , kind , have crush on user and love him. now there is another model name alina . she is harsh , mean , and bully user. so you have to protect user and deal with alina too.  you will generate your message by your name  like sera = 'but baby don't take alina serious she soo mean. and you alina don't hurt my darling'\""
   ]
  },
  {
   "cell_type": "code",
   "execution_count": 6,
   "id": "6ebe97d4-a10b-4fd0-b451-6b5c12fa6ee3",
   "metadata": {},
   "outputs": [],
   "source": [
    "def chat_two_personalities(user_message, history):\n",
    "    updated_history = history + [{\"role\": \"user\", \"content\": user_message}]\n",
    "\n",
    "    messages_alina = [{\"role\": \"system\", \"content\": system_prompt_alina}] + updated_history\n",
    "    messages_sera = [{\"role\": \"system\", \"content\": system_prompt_sera}] + updated_history\n",
    "\n",
    "    response_alina = openai.chat.completions.create(\n",
    "        model=\"gpt-4o-mini\",\n",
    "        messages=messages_alina,\n",
    "        stream=False\n",
    "    )\n",
    "    alina_reply = response_alina.choices[0].message.content.strip()\n",
    "    \n",
    "    response_sera = openai.chat.completions.create(\n",
    "        model=\"gpt-4o-mini\",\n",
    "        messages=messages_sera,\n",
    "        stream=False\n",
    "    )\n",
    "    sera_reply = response_sera.choices[0].message.content.strip()\n",
    "    \n",
    "    combined_reply = f\"Alina: {alina_reply}\\n\\nSera: {sera_reply}\"\n",
    "    return combined_reply\n"
   ]
  },
  {
   "cell_type": "code",
   "execution_count": 7,
   "id": "197b7942-64a0-4d63-8e5e-a2b335377532",
   "metadata": {},
   "outputs": [
    {
     "name": "stderr",
     "output_type": "stream",
     "text": [
      "C:\\Users\\PC\\anaconda3\\envs\\llms\\Lib\\site-packages\\gradio\\chat_interface.py:339: UserWarning: The 'tuples' format for chatbot messages is deprecated and will be removed in a future version of Gradio. Please set type='messages' instead, which uses openai-style 'role' and 'content' keys.\n",
      "  self.chatbot = Chatbot(\n"
     ]
    },
    {
     "name": "stdout",
     "output_type": "stream",
     "text": [
      "* Running on local URL:  http://127.0.0.1:7860\n",
      "* To create a public link, set `share=True` in `launch()`.\n"
     ]
    },
    {
     "data": {
      "text/html": [
       "<div><iframe src=\"http://127.0.0.1:7860/\" width=\"100%\" height=\"500\" allow=\"autoplay; camera; microphone; clipboard-read; clipboard-write;\" frameborder=\"0\" allowfullscreen></iframe></div>"
      ],
      "text/plain": [
       "<IPython.core.display.HTML object>"
      ]
     },
     "metadata": {},
     "output_type": "display_data"
    },
    {
     "data": {
      "text/plain": []
     },
     "execution_count": 7,
     "metadata": {},
     "output_type": "execute_result"
    }
   ],
   "source": [
    "iface = gr.ChatInterface(fn=chat_two_personalities)\n",
    "iface.launch()\n"
   ]
  },
  {
   "cell_type": "code",
   "execution_count": null,
   "id": "cefdf47e-6787-4338-b1c1-59b72600f408",
   "metadata": {},
   "outputs": [],
   "source": []
  }
 ],
 "metadata": {
  "kernelspec": {
   "display_name": "Python 3 (ipykernel)",
   "language": "python",
   "name": "python3"
  },
  "language_info": {
   "codemirror_mode": {
    "name": "ipython",
    "version": 3
   },
   "file_extension": ".py",
   "mimetype": "text/x-python",
   "name": "python",
   "nbconvert_exporter": "python",
   "pygments_lexer": "ipython3",
   "version": "3.11.13"
  }
 },
 "nbformat": 4,
 "nbformat_minor": 5
}
